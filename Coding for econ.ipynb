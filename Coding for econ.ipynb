{
 "cells": [
  {
   "cell_type": "code",
   "execution_count": 67,
   "id": "6a3ec4b8",
   "metadata": {},
   "outputs": [
    {
     "name": "stdout",
     "output_type": "stream",
     "text": [
      "['ArcGlobe.lnk', 'ArcMap.lnk', 'Assignment', 'desktop.ini', 'EndNote.lnk', 'Excel.lnk', 'Graph.png', 'Mathematica.lnk', 'Microsoft Edge.lnk', 'New folder', 'StataBE 18 64.lnk', 'Word.lnk', 'worldbank-lifeexpectancy.csv']\n"
     ]
    }
   ],
   "source": [
    "#Here, I am trying to show how to list what files are on my desktop which is task 1 in the assignment\n",
    "\n",
    "task_1=os.listdir(r\"C:/Users/Albakassova_Maira/Desktop\")\n",
    "print (task_1)"
   ]
  },
  {
   "cell_type": "code",
   "execution_count": 69,
   "id": "ad211311",
   "metadata": {},
   "outputs": [
    {
     "name": "stdout",
     "output_type": "stream",
     "text": [
      "1.4.2\n"
     ]
    }
   ],
   "source": [
    "# I need to install pandas to import my dataset--> i need to verify that i indeed installed this library by asking python to print me the version\n",
    "import pandas as pd\n",
    "print (pd.__version__)\n"
   ]
  },
  {
   "cell_type": "code",
   "execution_count": 132,
   "id": "860e1b2a",
   "metadata": {},
   "outputs": [
    {
     "name": "stdout",
     "output_type": "stream",
     "text": [
      "      year          countryname countrycode  lifeexp  population      gdppc\n",
      "0     1990              Albania         ALB      NaN    3.286542   4.458248\n",
      "1     1990              Algeria         DZA      NaN   25.758869  10.297842\n",
      "2     1990               Angola         AGO   41.696   11.848386   4.761230\n",
      "3     1990  Antigua and Barbuda         ATG   71.351    0.062528  17.472946\n",
      "4     1990            Argentina         ARG   71.565   32.618651  11.372823\n",
      "...    ...                  ...         ...      ...         ...        ...\n",
      "5024  2017              Vietnam         VNM   76.454   94.596642   6.233485\n",
      "5025  2017   West Bank and Gaza         PSE   73.646    4.454805   4.651724\n",
      "5026  2017          Yemen, Rep.         YEM   65.157   27.834821   2.404422\n",
      "5027  2017               Zambia         ZMB   62.255   16.853688   3.717667\n",
      "5028  2017             Zimbabwe         ZWE   61.712   14.236745   2.568410\n",
      "\n",
      "[5029 rows x 6 columns]\n"
     ]
    }
   ],
   "source": [
    "#importing my dataset and using print function to see if it actually worked\n",
    "df = pd.read_csv(r\"C:/Users/Albakassova_Maira/Desktop/worldbank-lifeexpectancy.csv\")\n",
    "print (df)"
   ]
  },
  {
   "cell_type": "code",
   "execution_count": 119,
   "id": "563685c1",
   "metadata": {},
   "outputs": [],
   "source": [
    "#Shortened version of the previous lines of code, here I read the csv file by using its address\n",
    "import pandas as pd\n",
    "df=pd.read_csv (r\"C:/Users/Albakassova_Maira/Desktop/worldbank-lifeexpectancy.csv\")"
   ]
  },
  {
   "cell_type": "code",
   "execution_count": 137,
   "id": "11531b1c",
   "metadata": {},
   "outputs": [
    {
     "name": "stdout",
     "output_type": "stream",
     "text": [
      "year\n",
      "countryname\n",
      "countrycode\n",
      "lifeexp\n",
      "population\n",
      "gdppc\n"
     ]
    }
   ],
   "source": [
    "#using for loop function, I printed the column names\n",
    "for x in df:\n",
    "    print (x)"
   ]
  },
  {
   "cell_type": "code",
   "execution_count": 125,
   "id": "a06de72e",
   "metadata": {},
   "outputs": [
    {
     "name": "stdout",
     "output_type": "stream",
     "text": [
      "year           0\n",
      "countryname    0\n",
      "countrycode    0\n",
      "lifeexp        2\n",
      "population     0\n",
      "gdppc          0\n",
      "dtype: int64\n"
     ]
    }
   ],
   "source": [
    "#Now we need to find out if there are any missing values and where they are\n",
    "df = pd.read_csv(r\"C:/Users/Albakassova_Maira/Desktop/worldbank-lifeexpectancy.csv\")\n",
    "print(df.isnull().sum())"
   ]
  },
  {
   "cell_type": "code",
   "execution_count": 133,
   "id": "de9f39e4",
   "metadata": {},
   "outputs": [
    {
     "name": "stdout",
     "output_type": "stream",
     "text": [
      "      year          countryname countrycode  lifeexp  population      gdppc\n",
      "2     1990               Angola         AGO   41.696   11.848386   4.761230\n",
      "3     1990  Antigua and Barbuda         ATG   71.351    0.062528  17.472946\n",
      "4     1990            Argentina         ARG   71.565   32.618651  11.372823\n",
      "5     1990              Armenia         ARM   67.879    3.538171   3.742431\n",
      "6     1990                Aruba         ABW   73.468    0.062149  37.140025\n",
      "...    ...                  ...         ...      ...         ...        ...\n",
      "5024  2017              Vietnam         VNM   76.454   94.596642   6.233485\n",
      "5025  2017   West Bank and Gaza         PSE   73.646    4.454805   4.651724\n",
      "5026  2017          Yemen, Rep.         YEM   65.157   27.834821   2.404422\n",
      "5027  2017               Zambia         ZMB   62.255   16.853688   3.717667\n",
      "5028  2017             Zimbabwe         ZWE   61.712   14.236745   2.568410\n",
      "\n",
      "[5027 rows x 6 columns]\n"
     ]
    }
   ],
   "source": [
    "#we see that there are 2 missing values in the lifeexp column, we can drop them \n",
    "df = df.dropna(subset=[\"lifeexp\"])\n",
    "print (df)"
   ]
  },
  {
   "cell_type": "code",
   "execution_count": 156,
   "id": "24c4f54e",
   "metadata": {
    "scrolled": true
   },
   "outputs": [
    {
     "name": "stdout",
     "output_type": "stream",
     "text": [
      "      year     countryname    lifeexp  population\n",
      "1     1990         Algeria        NaN   25.758869\n",
      "4     1990       Argentina  71.565000   32.618651\n",
      "12    1990      Bangladesh  58.401000  103.171956\n",
      "21    1990          Brazil  65.300000  149.003223\n",
      "28    1990          Canada  77.421951   27.691138\n",
      "...    ...             ...        ...         ...\n",
      "5019  2017  United Kingdom  81.156098   66.058859\n",
      "5020  2017   United States  78.539024  325.147121\n",
      "5022  2017      Uzbekistan  71.420000   32.388600\n",
      "5024  2017         Vietnam  76.454000   94.596642\n",
      "5026  2017     Yemen, Rep.  65.157000   27.834821\n",
      "\n",
      "[1374 rows x 4 columns]\n"
     ]
    }
   ],
   "source": [
    "#let's say I am only interested in looking at the lifeexp of countries whose population is over 20 million, and i also do not country code and gdppc\n",
    "df = pd.read_csv(r\"C:/Users/Albakassova_Maira/Desktop/worldbank-lifeexpectancy.csv\")\n",
    "filtered_data = df[df['population'] > 20]\n",
    "\n",
    "filtered_columns = filtered_data[['year', 'countryname', 'lifeexp', 'population']]\n",
    "print (filtered_columns)\n"
   ]
  },
  {
   "cell_type": "code",
   "execution_count": 163,
   "id": "70c6dfb9",
   "metadata": {},
   "outputs": [
    {
     "name": "stdout",
     "output_type": "stream",
     "text": [
      "              year      lifeexp   population\n",
      "count  1374.000000  1373.000000  1374.000000\n",
      "mean   2004.350801    68.740165   113.726641\n",
      "std       7.995762     8.706357   232.171285\n",
      "min    1990.000000    44.220000    20.001663\n",
      "25%    1998.000000    63.638000    29.619947\n",
      "50%    2005.000000    70.005000    48.485862\n",
      "75%    2011.000000    75.032000    85.489365\n",
      "max    2017.000000    84.099756  1386.395000\n"
     ]
    }
   ],
   "source": [
    "# now i will create a summary statistics table for the filtered columns\n",
    "\n",
    "summary_statistics=filtered_columns.describe()\n",
    "print (summary_statistics)"
   ]
  },
  {
   "cell_type": "code",
   "execution_count": 170,
   "id": "7a7484c0",
   "metadata": {},
   "outputs": [],
   "source": [
    "# to create graphs, we need to import the relevant packages first\n",
    "import pandas as pd\n",
    "import matplotlib.pyplot as plt\n",
    "\n"
   ]
  },
  {
   "cell_type": "code",
   "execution_count": 178,
   "id": "d8e3bbac",
   "metadata": {},
   "outputs": [
    {
     "data": {
      "image/png": "[encoded data removed]",
      "text/plain": [
       "<Figure size 432x288 with 1 Axes>"
      ]
     },
     "metadata": {
      "needs_background": "light"
     },
     "output_type": "display_data"
    }
   ],
   "source": [
    "#i want a graph that shows how lifeexp changed for Austria over 1990-2017\n",
    "# filtering the data for Austria\n",
    "country_data = df[df['countryname'] == 'Austria']\n",
    "\n",
    "# creating a Line Plot for year vs lifeexp \n",
    "plt.plot(country_data['year'], country_data['lifeexp'], marker='o', color='b', linestyle='-', label='Austria')\n",
    "\n",
    "# adding titles and labels\n",
    "plt.title('Life expectancy in Austria 1990-2017')\n",
    "plt.xlabel('year')\n",
    "plt.ylabel('Lifeexp')\n",
    "plt.legend()  \n",
    "plt.grid(True)  \n",
    "\n",
    "# printing my results\n",
    "plt.show()\n"
   ]
  },
  {
   "cell_type": "code",
   "execution_count": null,
   "id": "4c32e98a",
   "metadata": {},
   "outputs": [],
   "source": []
  }
 ],
 "metadata": {
  "kernelspec": {
   "display_name": "Python 3 (ipykernel)",
   "language": "python",
   "name": "python3"
  },
  "language_info": {
   "codemirror_mode": {
    "name": "ipython",
    "version": 3
   },
   "file_extension": ".py",
   "mimetype": "text/x-python",
   "name": "python",
   "nbconvert_exporter": "python",
   "pygments_lexer": "ipython3",
   "version": "3.9.12"
  }
 },
 "nbformat": 4,
 "nbformat_minor": 5
}
